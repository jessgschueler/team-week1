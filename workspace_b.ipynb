{
 "cells": [
  {
   "cell_type": "code",
   "execution_count": null,
   "metadata": {},
   "outputs": [],
   "source": [
    "from exif import Image\n",
    "import os\n",
    "\n",
    "directory = \"images\"\n",
    "\n",
    "def img_metachecker():\n",
    "    for image in os.listdir(directory):\n",
    "        try:\n",
    "            i = os.path.join(directory, image)\n",
    "            if os.path.isfile(i):\n",
    "                # print(i)\n",
    "                curr_image = Image(i)\n",
    "                print(dir(curr_image))\n",
    "        except:\n",
    "            pass\n",
    "\n",
    "img_metachecker()"
   ]
  },
  {
   "cell_type": "code",
   "execution_count": 12,
   "metadata": {},
   "outputs": [
    {
     "data": {
      "text/plain": [
       "'2021:12:25 22:09:37'"
      ]
     },
     "execution_count": 12,
     "metadata": {},
     "output_type": "execute_result"
    }
   ],
   "source": [
    "with open(\"./images/duma.jpg\", \"rb\") as image_file:\n",
    "    my_image = Image(image_file)\n",
    "\n",
    "my_image.has_exif\n",
    "# my_image.list_all()\n",
    "my_image.datetime_original\n",
    "# my_image.datetime_digitized"
   ]
  },
  {
   "cell_type": "code",
   "execution_count": 14,
   "metadata": {},
   "outputs": [
    {
     "name": "stdout",
     "output_type": "stream",
     "text": [
      "2019:11:16 15:17:09\n",
      "2021:10:31 18:50:07\n",
      "2018:10:25 17:33:43\n",
      "2022:04:11 07:50:08\n",
      "2022:03:12 12:56:22\n",
      "2021:02:15 09:40:04\n",
      "2021:12:04 23:13:32\n",
      "2022:02:15 14:32:40\n",
      "2020:09:23 16:48:49\n",
      "2022:04:03 20:32:47\n",
      "2021:03:20 14:54:33\n",
      "2018:05:23 12:37:02\n",
      "2019:03:23 14:18:26\n",
      "2021:12:26 03:48:24\n",
      "2021:12:26 03:48:24\n",
      "2021:06:27 15:36:45\n",
      "2020:09:03 18:00:22\n",
      "2019:01:13 16:21:33\n",
      "2021:09:05 20:17:12\n",
      "2021:06:19 11:00:33\n",
      "2022:02:11 20:10:48\n",
      "2021:08:13 18:52:44\n",
      "2022:03:08 15:30:23\n",
      "2021:10:30 17:18:59\n",
      "2020:05:14 10:57:12\n",
      "2021:04:05 13:38:29\n",
      "2021:12:23 16:30:30\n",
      "2021:04:25 03:18:12\n",
      "2018:10:25 17:33:43\n",
      "2021:12:25 22:09:37\n",
      "2021:09:03 13:19:49\n",
      "2021:04:23 21:46:01\n",
      "2021:05:04 19:49:57\n",
      "2021:09:03 22:23:17\n",
      "2021:02:04 16:00:56\n",
      "2022:04:24 12:49:54\n",
      "2021:02:04 19:25:22\n",
      "2022:01:24 18:22:21\n",
      "2021:02:07 10:47:30\n",
      "2020:10:16 20:58:23\n",
      "2022:03:26 04:04:28\n",
      "2022:04:06 19:51:01\n",
      "2020:11:22 20:30:57\n",
      "2021:05:11 16:50:45\n",
      "2021:08:01 14:25:00\n",
      "2021:12:29 14:54:10\n",
      "2022:04:26 11:07:10\n",
      "2021:02:04 19:25:22\n",
      "2021:05:15 15:59:17\n",
      "2022:04:18 17:00:11\n",
      "2018:10:11 20:01:19\n",
      "2021:06:02 15:37:31\n",
      "2021:06:13 13:29:29\n",
      "2022:01:24 18:22:21\n",
      "2020:09:01 17:47:47\n",
      "2021:02:15 09:40:04\n",
      "2022:03:06 13:46:40\n",
      "2021:06:25 12:45:24\n",
      "2022:02:26 03:26:01\n",
      "2021:06:24 13:19:50\n",
      "2021:03:29 17:20:34\n",
      "2021:12:26 03:48:24\n",
      "2022:02:16 10:48:02\n",
      "2022:04:10 22:31:45\n",
      "2021:10:20 00:26:39\n",
      "2022:04:23 19:34:26\n",
      "2021:09:30 20:11:48\n",
      "2022:02:13 15:33:43\n",
      "2021:01:27 14:47:01\n",
      "2021:12:25 12:57:14\n",
      "2021:04:26 17:49:43\n",
      "2021:07:18 20:25:25\n",
      "2022:03:23 19:25:22\n",
      "2020:02:10 23:05:35\n",
      "2022:03:08 15:51:02\n",
      "2020:05:11 17:30:51\n",
      "2022:02:17 13:05:55\n",
      "2021:12:17 17:30:39\n",
      "2021:12:26 08:19:23\n",
      "2021:05:08 12:12:11\n",
      "2022:03:08 15:38:43\n",
      "2021:01:29 11:00:56\n",
      "2021:09:03 13:19:49\n",
      "2021:12:25 15:11:12\n",
      "2018:11:10 20:11:41\n",
      "2021:12:17 17:30:39\n"
     ]
    }
   ],
   "source": [
    "from exif import Image\n",
    "import os\n",
    "\n",
    "directory = \"images\"\n",
    "\n",
    "def img_date_sort():\n",
    "    for image in os.listdir(directory):\n",
    "        try:\n",
    "            i = os.path.join(directory, image)\n",
    "            if os.path.isfile(i):\n",
    "                # print(i)\n",
    "                curr_image = Image(i)\n",
    "                print(curr_image.datetime_original)\n",
    "        except:\n",
    "            pass\n",
    "\n",
    "img_date_sort()"
   ]
  }
 ],
 "metadata": {
  "interpreter": {
   "hash": "e51396d4ca4f74a9b4edc98dd63d65fa976c9af2686c8d7188ca90947889bf33"
  },
  "kernelspec": {
   "display_name": "Python 3.7.13 ('venv': venv)",
   "language": "python",
   "name": "python3"
  },
  "language_info": {
   "codemirror_mode": {
    "name": "ipython",
    "version": 3
   },
   "file_extension": ".py",
   "mimetype": "text/x-python",
   "name": "python",
   "nbconvert_exporter": "python",
   "pygments_lexer": "ipython3",
   "version": "3.7.13"
  },
  "orig_nbformat": 4
 },
 "nbformat": 4,
 "nbformat_minor": 2
}
