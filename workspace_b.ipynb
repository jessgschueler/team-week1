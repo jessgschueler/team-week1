{
 "cells": [
  {
   "cell_type": "code",
   "execution_count": 3,
   "metadata": {},
   "outputs": [],
   "source": [
    "from exif import Image\n",
    "import pandas as pd\n",
    "import os\n",
    "from PIL import Image\n",
    "\n",
    "\n",
    "directory = \"images\"\n",
    "\n",
    "def img_metachecker():\n",
    "    for image in os.listdir(directory):\n",
    "        try:\n",
    "            i = os.path.join(directory, image)\n",
    "            if os.path.isfile(i):\n",
    "                # print(i)\n",
    "                curr_image = Image(i)\n",
    "                print(dir(curr_image))\n",
    "                # add method to change all imgs types to .jpg\n",
    "                if file.endswith(\".jpg\"): \n",
    "                    img = Image.open(file)\n",
    "                    file_name, file_ext = os.path.splitext(file)\n",
    "                    img.save('/png/{}.png'.format(file_name))\n",
    "        except:\n",
    "            pass\n",
    "\n",
    "\n",
    "\n",
    "\n",
    "\n",
    "# from collections import defaultdict\n",
    "\n",
    "# file_dict = defaultdict(list)\n",
    "# for filename in files:\n",
    "#     file_dict[get_file_hash(filename)].append(filename)    \n",
    "\n",
    "        \n",
    "img_metachecker()"
   ]
  },
  {
   "cell_type": "code",
   "execution_count": 4,
   "metadata": {},
   "outputs": [],
   "source": [
    "\n",
    "def calculate_hash_val(path, block_size=''):\n",
    "    file = open(path, 'rb')\n",
    "    hasher = hashlib.md5()\n",
    "    data = file.read()\n",
    "    while len(data) > 0:\n",
    "        hasher.update(data)\n",
    "        data = file.read()\n",
    "    file.close()\n",
    "    return hasher.hexdigest()"
   ]
  },
  {
   "cell_type": "code",
   "execution_count": null,
   "metadata": {},
   "outputs": [],
   "source": []
  },
  {
   "cell_type": "code",
   "execution_count": null,
   "metadata": {},
   "outputs": [],
   "source": []
  }
 ],
 "metadata": {
  "interpreter": {
   "hash": "ab032c7e97ed484981d430b039a31203d1f3965cf011def2f6e266d0c7bcfc69"
  },
  "kernelspec": {
   "display_name": "Python 3.7.13 ('venv': venv)",
   "language": "python",
   "name": "python3"
  },
  "language_info": {
   "codemirror_mode": {
    "name": "ipython",
    "version": 3
   },
   "file_extension": ".py",
   "mimetype": "text/x-python",
   "name": "python",
   "nbconvert_exporter": "python",
   "pygments_lexer": "ipython3",
   "version": "3.7.13"
  },
  "orig_nbformat": 4
 },
 "nbformat": 4,
 "nbformat_minor": 2
}
