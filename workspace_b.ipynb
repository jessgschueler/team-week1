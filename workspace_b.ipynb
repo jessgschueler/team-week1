{
 "cells": [
  {
   "cell_type": "code",
   "execution_count": null,
   "metadata": {},
   "outputs": [],
   "source": [
    "from exif import Image\n",
    "import os\n",
    "\n",
    "directory = \"images\"\n",
    "\n",
    "def img_metachecker():\n",
    "    for image in os.listdir(directory):\n",
    "        try:\n",
    "            i = os.path.join(directory, image)\n",
    "            if os.path.isfile(i):\n",
    "                # print(i)\n",
    "                curr_image = Image(i)\n",
    "                print(dir(curr_image))\n",
    "        except:\n",
    "            pass\n",
    "\n",
    "img_metachecker()"
   ]
  },
  {
   "cell_type": "code",
   "execution_count": 3,
   "metadata": {},
   "outputs": [
    {
     "data": {
      "text/plain": [
       "'2021:12:25 22:09:37'"
      ]
     },
     "execution_count": 3,
     "metadata": {},
     "output_type": "execute_result"
    }
   ],
   "source": [
    "with open(\"./images/duma.jpg\", \"rb\") as image_file:\n",
    "    my_image = Image(image_file)\n",
    "\n",
    "my_image.has_exif\n",
    "# my_image.list_all()\n",
    "my_image.datetime_original\n",
    "# my_image.datetime_digitized"
   ]
  },
  {
   "cell_type": "code",
   "execution_count": 6,
   "metadata": {},
   "outputs": [],
   "source": [
    "from exif import Image\n",
    "import os\n",
    "import pandas as pd\n",
    "from datetime import datetime\n",
    "\n",
    "directory = \"images\"\n",
    "# dict = {\"file1\": '2021:12:25 22:09:37', \"file2\": '2019:11:16 15:17:09', \"file3\": '2018:05:23 12:37:02', \"file4\": '2019:01:13 16:21:33'}\n",
    "# print(dict[\"file1\"])\n",
    "# def img_date_sort():\n",
    "#     date_list = []\n",
    "#     for image in os.listdir(directory):\n",
    "#         try:\n",
    "#             i = os.path.join(directory, image)\n",
    "#             if os.path.isfile(i):\n",
    "#                 # print(i)\n",
    "#                 curr_image = Image(i)\n",
    "#                 date_list.append(curr_image.datetime_original)\n",
    "#                 # print(curr_image.datetime_original)\n",
    "#         except:\n",
    "#             pass\n",
    "#     print(sorted(date_list))\n",
    "# img_date_sort()\n",
    "\n",
    "def img_date_sort():\n",
    "    date_list = []\n",
    "    for image in os.listdir(directory):\n",
    "        # for each image in directory (directory is the absolute path \"images/\")\n",
    "        try:\n",
    "            i = os.path.join(directory, image)\n",
    "            # concatenate image directory path with image file\n",
    "            if os.path.isfile(i):\n",
    "                # print(i)\n",
    "                curr_image = Image(i)\n",
    "                date = curr_image.datetime_original\n",
    "                # print(date)\n",
    "                # new_date = datetime.datetime.strptime(date, '%Y-%m-%d').date()\n",
    "                new_directory = 'Sorted/{}'.format(date)\n",
    "                os.makedirs(new_directory, exist_ok=True)\n",
    "                # print(new_date)\n",
    "                # date_list.append(curr_image.datetime_original)\n",
    "                # print(curr_image.datetime_original)\n",
    "        except:\n",
    "            pass\n",
    "    # print(sorted(date_list))\n",
    "img_date_sort()\n",
    "# def img_date_sort(dict):\n",
    "#     \"\"\" \n",
    "#     Takes a dictionary of image metadata and sort by the datetime_original key\n",
    "\n",
    "#     img_date_sort(metadata_dictionary) -> {'img1': '2018:05:23 12:37:02', 'img2': '2018:10:11 20:01:19', 'img3': '2018:10:25 17:33:43', 'img4': '2018:11:10 20:11:41'}\n",
    "#     \"\"\"\n",
    "#     for image in dict:\n",
    "#         # print(i)\n",
    "#         curr_image = Image(i)\n",
    "#         date_list.append(curr_image.datetime_original)\n",
    "#         # print(curr_image.datetime_original)\n",
    "#     print(sorted(date_list))"
   ]
  }
 ],
 "metadata": {
  "interpreter": {
   "hash": "e51396d4ca4f74a9b4edc98dd63d65fa976c9af2686c8d7188ca90947889bf33"
  },
  "kernelspec": {
   "display_name": "Python 3.7.13 ('venv': venv)",
   "language": "python",
   "name": "python3"
  },
  "language_info": {
   "codemirror_mode": {
    "name": "ipython",
    "version": 3
   },
   "file_extension": ".py",
   "mimetype": "text/x-python",
   "name": "python",
   "nbconvert_exporter": "python",
   "pygments_lexer": "ipython3",
   "version": "3.7.13"
  },
  "orig_nbformat": 4
 },
 "nbformat": 4,
 "nbformat_minor": 2
}
