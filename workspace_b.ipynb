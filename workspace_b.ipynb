{
 "cells": [
  {
   "cell_type": "code",
   "execution_count": null,
   "metadata": {},
   "outputs": [],
   "source": [
    "from exif import Image\n",
    "import pandas as pd\n",
    "import os\n",
    "from PIL import Image \n",
    "\n",
    "\n",
    "directory = \"images\"\n",
    "\n",
    "def img_metachecker():\n",
    "    for image in os.listdir(directory):\n",
    "        try:\n",
    "            i = os.path.join(directory, image)\n",
    "            if os.path.isfile(i):\n",
    "                # print(i)\n",
    "                curr_image = Image(i)\n",
    "                print(dir(curr_image))\n",
    "                if file.endswith(\".jpg\"): \n",
    "                    img = Image.open(file)\n",
    "                    file_name, file_ext = os.path.splitext(file)\n",
    "                    img.save('/png/{}.png'.format(file_name))\n",
    "        except:\n",
    "            pass\n",
    "        \n",
    "img_metachecker()"
   ]
  }
 ],
 "metadata": {
  "language_info": {
   "name": "python"
  },
  "orig_nbformat": 4
 },
 "nbformat": 4,
 "nbformat_minor": 2
}
