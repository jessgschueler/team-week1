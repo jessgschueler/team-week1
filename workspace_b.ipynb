{
 "cells": [
  {
   "cell_type": "code",
   "execution_count": 69,
   "metadata": {},
   "outputs": [
    {
     "ename": "UnboundLocalError",
     "evalue": "local variable 'meta_df' referenced before assignment",
     "output_type": "error",
     "traceback": [
      "\u001b[0;31m---------------------------------------------------------------------------\u001b[0m",
      "\u001b[0;31mUnboundLocalError\u001b[0m                         Traceback (most recent call last)",
      "\u001b[0;32m/var/folders/5x/ph8t_tlx7kb2_w43x1mfvwd80000gn/T/ipykernel_74294/3771935761.py\u001b[0m in \u001b[0;36m<module>\u001b[0;34m\u001b[0m\n\u001b[1;32m     35\u001b[0m     \u001b[0;32mreturn\u001b[0m \u001b[0mmeta_df\u001b[0m\u001b[0;34m\u001b[0m\u001b[0;34m\u001b[0m\u001b[0m\n\u001b[1;32m     36\u001b[0m \u001b[0;34m\u001b[0m\u001b[0m\n\u001b[0;32m---> 37\u001b[0;31m \u001b[0mdrop_rejects\u001b[0m\u001b[0;34m(\u001b[0m\u001b[0;34m)\u001b[0m\u001b[0;34m\u001b[0m\u001b[0;34m\u001b[0m\u001b[0m\n\u001b[0m\u001b[1;32m     38\u001b[0m \u001b[0;34m\u001b[0m\u001b[0m\n\u001b[1;32m     39\u001b[0m \u001b[0;34m\u001b[0m\u001b[0m\n",
      "\u001b[0;32m/var/folders/5x/ph8t_tlx7kb2_w43x1mfvwd80000gn/T/ipykernel_74294/3771935761.py\u001b[0m in \u001b[0;36mdrop_rejects\u001b[0;34m()\u001b[0m\n\u001b[1;32m     31\u001b[0m \u001b[0;34m\u001b[0m\u001b[0m\n\u001b[1;32m     32\u001b[0m \u001b[0;32mdef\u001b[0m \u001b[0mdrop_rejects\u001b[0m\u001b[0;34m(\u001b[0m\u001b[0;34m)\u001b[0m\u001b[0;34m:\u001b[0m\u001b[0;34m\u001b[0m\u001b[0;34m\u001b[0m\u001b[0m\n\u001b[0;32m---> 33\u001b[0;31m     meta_df = meta_df.dropna( how='all',\n\u001b[0m\u001b[1;32m     34\u001b[0m                          subset=['Make', 'Model', 'DateTime'])\n\u001b[1;32m     35\u001b[0m     \u001b[0;32mreturn\u001b[0m \u001b[0mmeta_df\u001b[0m\u001b[0;34m\u001b[0m\u001b[0;34m\u001b[0m\u001b[0m\n",
      "\u001b[0;31mUnboundLocalError\u001b[0m: local variable 'meta_df' referenced before assignment"
     ]
    }
   ],
   "source": [
    "import pandas as pd\n",
    "import numpy as np\n",
    "import hashlib\n",
    "\n",
    "#read csv file and export to pandas df\n",
    "meta_file = './data/meta_data.csv'\n",
    "meta_df = pd.read_csv(meta_file, header=0)\n",
    "\n",
    "def md5_hash():\n",
    "    def calculate_hash_val(path, block_size=''):\n",
    "        image = open(path, 'rb')\n",
    "        hasher = hashlib.md5()\n",
    "        data = image.read()\n",
    "        while len(data) > 0:\n",
    "            hasher.update(data)\n",
    "            data = image.read()\n",
    "        image.close()\n",
    "        return hasher.hexdigest()\n",
    "    #run calculate_hash_val func over file path column and add to df as 'md5 hash'\n",
    "    meta_df['MD5 Hash'] = meta_df['File Path'].map(calculate_hash_val)\n",
    "    #drop duplicate columns using Md5 Hash\n",
    "    meta_df.drop_duplicates(keep='first', subset='MD5 Hash', inplace = True)\n",
    "\n",
    "md5_hash()\n",
    "\n",
    "meta_df\n",
    "def reject_rows():\n",
    "    reject_df = pd.DataFrame()\n",
    "    reject_df = meta_df[meta_df[['Make', 'Model', 'DateTime']].isna().all(axis=1)]\n",
    "    return reject_df\n",
    " \n",
    "\n",
    "\n"
   ]
  }
 ],
 "metadata": {
  "interpreter": {
   "hash": "ab032c7e97ed484981d430b039a31203d1f3965cf011def2f6e266d0c7bcfc69"
  },
  "kernelspec": {
   "display_name": "Python 3.7.13 ('venv': venv)",
   "language": "python",
   "name": "python3"
  },
  "language_info": {
   "codemirror_mode": {
    "name": "ipython",
    "version": 3
   },
   "file_extension": ".py",
   "mimetype": "text/x-python",
   "name": "python",
   "nbconvert_exporter": "python",
   "pygments_lexer": "ipython3",
   "version": "3.7.13"
  },
  "orig_nbformat": 4
 },
 "nbformat": 4,
 "nbformat_minor": 2
}
