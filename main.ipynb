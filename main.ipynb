{
 "cells": [
  {
   "cell_type": "code",
   "execution_count": 5,
   "metadata": {},
   "outputs": [
    {
     "data": {
      "text/plain": [
       "['_exif_ifd_pointer',\n",
       " '_segments',\n",
       " 'aperture_value',\n",
       " 'color_space',\n",
       " 'compression',\n",
       " 'datetime_digitized',\n",
       " 'datetime_original',\n",
       " 'delete',\n",
       " 'delete_all',\n",
       " 'digital_zoom_ratio',\n",
       " 'exif_version',\n",
       " 'exposure_bias_value',\n",
       " 'exposure_mode',\n",
       " 'exposure_program',\n",
       " 'exposure_time',\n",
       " 'f_number',\n",
       " 'flash',\n",
       " 'focal_length',\n",
       " 'focal_length_in_35mm_film',\n",
       " 'get',\n",
       " 'get_all',\n",
       " 'get_file',\n",
       " 'get_thumbnail',\n",
       " 'has_exif',\n",
       " 'image_height',\n",
       " 'image_unique_id',\n",
       " 'image_width',\n",
       " 'jpeg_interchange_format',\n",
       " 'jpeg_interchange_format_length',\n",
       " 'list_all',\n",
       " 'make',\n",
       " 'max_aperture_value',\n",
       " 'metering_mode',\n",
       " 'model',\n",
       " 'offset_time',\n",
       " 'offset_time_original',\n",
       " 'orientation',\n",
       " 'photographic_sensitivity',\n",
       " 'pixel_x_dimension',\n",
       " 'pixel_y_dimension',\n",
       " 'resolution_unit',\n",
       " 'scene_capture_type',\n",
       " 'shutter_speed_value',\n",
       " 'software',\n",
       " 'white_balance',\n",
       " 'x_resolution',\n",
       " 'y_and_c_positioning',\n",
       " 'y_resolution']"
      ]
     },
     "execution_count": 5,
     "metadata": {},
     "output_type": "execute_result"
    }
   ],
   "source": [
    "from exif import Image\n",
    "with open(\"./images/duma.jpg\", \"rb\") as image_file:\n",
    "    my_image = Image(image_file)\n",
    "# Open \n",
    "my_image.has_exif\n",
    "dir(my_image)\n",
    "# This reads the images metadata"
   ]
  },
  {
   "cell_type": "code",
   "execution_count": null,
   "metadata": {},
   "outputs": [],
   "source": [
    "# from exif import Image\n",
    "# with open(\"./images/*\", \"rb\") as image_dir:\n",
    "#     images = Image(image_dir)\n",
    "# # Open \n",
    "# my_image.has_exif\n",
    "# dir(my_image)\n",
    "# # This reads the images metadata"
   ]
  }
 ],
 "metadata": {
  "interpreter": {
   "hash": "e51396d4ca4f74a9b4edc98dd63d65fa976c9af2686c8d7188ca90947889bf33"
  },
  "kernelspec": {
   "display_name": "Python 3.7.13 ('venv': venv)",
   "language": "python",
   "name": "python3"
  },
  "language_info": {
   "codemirror_mode": {
    "name": "ipython",
    "version": 3
   },
   "file_extension": ".py",
   "mimetype": "text/x-python",
   "name": "python",
   "nbconvert_exporter": "python",
   "pygments_lexer": "ipython3",
   "version": "3.7.13"
  },
  "orig_nbformat": 4
 },
 "nbformat": 4,
 "nbformat_minor": 2
}
