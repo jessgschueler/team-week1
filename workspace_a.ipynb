{
 "cells": [
  {
   "cell_type": "code",
   "execution_count": 24,
   "metadata": {},
   "outputs": [
    {
     "name": "stdout",
     "output_type": "stream",
     "text": [
      "[{'TileWidth': 512, 'TileLength': 512, 'ResolutionUnit': 2, 'ExifOffset': 230, 'Make': 'Apple', 'Model': 'iPhone XR', 'Software': 'Instagram', 'Orientation': 1, 'DateTime': '2021:06:13 13:29:29', 'XResolution': 72.0, 'YResolution': 72.0, 'HostComputer': 'iPhone XR', 'File Path': './images/32B7B192-E638-4DA1-BE40-8F3D604BFD91.jpg'}, {'File Path': './images/IMG_8702.jpg'}, {'File Path': './images/IMG_20161225_104113125_HDR.jpg'}, {'File Path': './images/1213202230b.jpg'}, {'ImageWidth': 4032, 'ImageLength': 3024, 'ResolutionUnit': 2, 'ExifOffset': 226, 'Make': 'samsung', 'Model': 'SM-G970U', 'Software': 'G970USQU4ETH7', 'Orientation': 1, 'DateTime': '2020:10:16 20:58:23', 'YCbCrPositioning': 1, 'XResolution': 72.0, 'YResolution': 72.0, 'File Path': './images/boat.jpg'}, {'ImageWidth': 4032, 'ImageLength': 2268, 'ResolutionUnit': 2, 'ExifOffset': 226, 'Make': 'samsung', 'Model': 'SM-G970U', 'Software': 'G970USQU6GUJ3', 'Orientation': 1, 'YCbCrPositioning': 1, 'XResolution': 72.0, 'YResolution': 72.0, 'File Path': './images/duma.jpg'}, {'File Path': './images/0210212338a.jpg'}, {'ResolutionUnit': 2, 'ExifOffset': 190, 'Make': 'Apple', 'Model': 'iPhone XR', 'Software': '14.4', 'DateTime': '2021:02:15 09:40:04', 'XResolution': 72.0, 'YResolution': 72.0, 'HostComputer': 'iPhone XR', 'File Path': './images/IMG_62722.jpeg'}, {'ResolutionUnit': 2, 'ExifOffset': 182, 'Make': 'Apple', 'Model': 'iPhone XR', 'Software': '13.6.1', 'DateTime': '2020:09:03 18:00:22', 'Orientation': 3, 'XResolution': 72.0, 'YResolution': 72.0, 'File Path': './images/IMG_5145.jpeg'}, {'ImageWidth': 4032, 'ImageLength': 2268, 'ResolutionUnit': 2, 'ExifOffset': 226, 'Make': 'samsung', 'Model': 'SM-G970U', 'Software': 'G970USQS5GUE3', 'Orientation': 1, 'DateTime': '2021:06:27 15:36:45', 'YCbCrPositioning': 1, 'XResolution': 72.0, 'YResolution': 72.0, 'File Path': './images/hike.jpg'}, {'ResolutionUnit': 2, 'ExifOffset': 202, 'Make': 'Apple', 'Model': 'iPhone XR', 'Software': '14.4', 'DateTime': '2021:03:29 17:20:34', 'YCbCrPositioning': 1, 'XResolution': 72.0, 'YResolution': 72.0, 'HostComputer': 'iPhone XR', 'File Path': './images/63875643497__9606A74B-2196-426D-9BD0-AE33C74BD2F9.jpeg'}, {'ResolutionUnit': 2, 'ExifOffset': 190, 'Make': 'Apple', 'Model': 'iPhone XR', 'Software': '14.6', 'DateTime': '2021:08:13 18:52:44', 'XResolution': 72.0, 'YResolution': 72.0, 'HostComputer': 'iPhone XR', 'File Path': './images/IMG_7292.jpeg'}, {'ImageWidth': 4032, 'ImageLength': 3024, 'ResolutionUnit': 2, 'ExifOffset': 228, 'Make': 'samsung', 'Model': 'SM-G991U1', 'Software': 'G991U1UEU1ATLI', 'Orientation': 6, 'DateTime': '2021:02:04 19:25:22', 'YCbCrPositioning': 1, 'XResolution': 72.0, 'YResolution': 72.0, 'File Path': './images/20210204_1925222.jpg'}, {'ResolutionUnit': 2, 'ExifOffset': 192, 'Make': 'Apple', 'Model': 'iPhone XR', 'Software': '14.4.2', 'DateTime': '2021:05:15 15:59:17', 'XResolution': 72.0, 'YResolution': 72.0, 'HostComputer': 'iPhone XR', 'File Path': './images/IMG_6816.jpeg'}, {'ImageWidth': 4032, 'ImageLength': 2268, 'ResolutionUnit': 2, 'ExifOffset': 226, 'Make': 'samsung', 'Model': 'SM-G970U', 'Software': 'G970USQS6HVA1', 'Orientation': 1, 'DateTime': '2022:02:11 20:10:48', 'YCbCrPositioning': 1, 'XResolution': 72.0, 'YResolution': 72.0, 'File Path': './images/medieval.jpg'}, {'ImageWidth': 4032, 'ImageLength': 3024, 'ResolutionUnit': 2, 'ExifOffset': 228, 'Make': 'samsung', 'Model': 'SM-G991U1', 'Software': 'G991U1UEU5CVC4', 'Orientation': 6, 'DateTime': '2022:03:26 04:04:28', 'YCbCrPositioning': 1, 'XResolution': 72.0, 'YResolution': 72.0, 'File Path': './images/20220326_040427.jpg'}, {'ImageWidth': 5312, 'ImageLength': 2988, 'GPSInfo': 3152, 'ResolutionUnit': 2, 'ExifOffset': 238, 'Make': 'samsung', 'Model': 'SM-G900V', 'Software': 'G900VVRU2DQL1', 'Orientation': 1, 'DateTime': '2019:01:13 16:21:33', 'YCbCrPositioning': 1, 'XResolution': 72.0, 'YResolution': 72.0, 'File Path': './images/staples_center.jpg'}, {'ImageWidth': 4032, 'ImageLength': 3024, 'ResolutionUnit': 2, 'ExifOffset': 226, 'Make': 'samsung', 'Model': 'SM-G970U', 'Software': 'G970USQU4FTLN', 'Orientation': 6, 'DateTime': '2021:01:27 14:47:01', 'YCbCrPositioning': 1, 'XResolution': 72.0, 'YResolution': 72.0, 'File Path': './images/aero_garden.jpg'}, {'ResolutionUnit': 2, 'ExifOffset': 168, 'Make': 'Apple', 'Model': 'iPhone XR', 'Software': '13.7', 'DateTime': '2020:09:23 16:48:49', 'XResolution': 72.0, 'YResolution': 72.0, 'File Path': './images/IMG_5324.jpeg'}, {'ImageWidth': 4608, 'ImageLength': 2592, 'ResolutionUnit': 2, 'ExifOffset': 226, 'Make': 'samsung', 'Model': 'SM-G970U', 'Software': 'G970USQS5GUF1', 'Orientation': 1, 'DateTime': '2021:09:03 13:19:49', 'YCbCrPositioning': 1, 'XResolution': 72.0, 'YResolution': 72.0, 'File Path': './images/botanical2.jpg'}, {'ImageWidth': 5312, 'ImageLength': 2988, 'GPSInfo': 3152, 'ResolutionUnit': 2, 'ExifOffset': 238, 'Make': 'samsung', 'Model': 'SM-G900V', 'Software': 'G900VVRU2DQL1', 'Orientation': 1, 'DateTime': '2019:03:23 14:18:26', 'YCbCrPositioning': 1, 'XResolution': 72.0, 'YResolution': 72.0, 'File Path': './images/sumo.jpg'}, {'File Path': './images/0122211534a_HDR.jpg'}, {'ImageWidth': 4032, 'ImageLength': 3024, 'ResolutionUnit': 2, 'ExifOffset': 226, 'Make': 'samsung', 'Model': 'SM-G970U', 'Software': 'G970USQS5GUE3', 'Orientation': 6, 'DateTime': '2021:06:24 13:19:50', 'YCbCrPositioning': 1, 'XResolution': 72.0, 'YResolution': 72.0, 'File Path': './images/axle.jpg'}, {'ResolutionUnit': 2, 'ExifOffset': 192, 'Make': 'Apple', 'Model': 'iPhone XR', 'Software': '14.8.1', 'DateTime': '2021:12:26 08:19:23', 'XResolution': 72.0, 'YResolution': 72.0, 'HostComputer': 'iPhone XR', 'File Path': './images/IMG_7922.jpeg'}, {'ImageWidth': 4032, 'ImageLength': 3024, 'ResolutionUnit': 2, 'ExifOffset': 228, 'Make': 'samsung', 'Model': 'SM-G991U1', 'Software': 'G991U1UEU1ATLI', 'Orientation': 6, 'DateTime': '2021:02:04 19:25:22', 'YCbCrPositioning': 1, 'XResolution': 72.0, 'YResolution': 72.0, 'File Path': './images/20210204_192522.jpg'}, {'ImageWidth': 4608, 'ImageLength': 2592, 'ResolutionUnit': 2, 'ExifOffset': 226, 'Make': 'samsung', 'Model': 'SM-G970U', 'Software': 'G970USQS5GUF1', 'Orientation': 1, 'DateTime': '2021:09:03 13:19:49', 'YCbCrPositioning': 1, 'XResolution': 72.0, 'YResolution': 72.0, 'File Path': './images/botanical.jpg'}, {'ImageWidth': 4032, 'ImageLength': 3024, 'ResolutionUnit': 2, 'ExifOffset': 228, 'Make': 'samsung', 'Model': 'SM-G991U1', 'Software': 'G991U1UES4AUIN', 'Orientation': 3, 'DateTime': '2021:10:20 00:26:39', 'YCbCrPositioning': 1, 'XResolution': 72.0, 'YResolution': 72.0, 'File Path': './images/20211020_002637.jpg'}, {'ImageWidth': 4608, 'ImageLength': 2592, 'ResolutionUnit': 2, 'ExifOffset': 226, 'Make': 'samsung', 'Model': 'SM-G970U', 'Software': 'G970USQU6GUJ3', 'Orientation': 1, 'DateTime': '2021:12:25 12:57:14', 'YCbCrPositioning': 1, 'XResolution': 72.0, 'YResolution': 72.0, 'File Path': './images/bakery.jpg'}, {'ResolutionUnit': 2, 'ExifOffset': 190, 'Make': 'Apple', 'Model': 'iPhone XR', 'Software': '14.4', 'DateTime': '2021:03:20 14:54:33', 'XResolution': 72.0, 'YResolution': 72.0, 'HostComputer': 'iPhone XR', 'File Path': './images/IMG_6523.jpeg'}, {'ImageWidth': 5312, 'ImageLength': 2988, 'GPSInfo': 3152, 'ResolutionUnit': 2, 'ExifOffset': 238, 'Make': 'samsung', 'Model': 'SM-G900V', 'Software': 'G900VVRU2DQL1', 'Orientation': 1, 'YCbCrPositioning': 1, 'XResolution': 72.0, 'YResolution': 72.0, 'File Path': './images/pool.jpg'}, {'ImageWidth': 4032, 'ImageLength': 3024, 'ResolutionUnit': 2, 'ExifOffset': 228, 'Make': 'samsung', 'Model': 'SM-G991U1', 'Software': 'G991U1UES5BVA6', 'Orientation': 1, 'YCbCrPositioning': 1, 'XResolution': 72.0, 'YResolution': 72.0, 'File Path': './images/20220306_134640.jpg'}, {'ResolutionUnit': 2, 'ExifOffset': 192, 'Make': 'Apple', 'Model': 'iPhone XR', 'Software': '14.8.1', 'DateTime': '2022:02:13 15:33:43', 'XResolution': 72.0, 'YResolution': 72.0, 'HostComputer': 'iPhone XR', 'File Path': './images/IMG_8087.jpeg'}, {'ImageWidth': 5312, 'ImageLength': 2988, 'GPSInfo': 3152, 'ResolutionUnit': 2, 'ExifOffset': 238, 'Make': 'samsung', 'Model': 'SM-G900V', 'Software': 'G900VVRU2DQL1', 'Orientation': 6, 'YCbCrPositioning': 1, 'XResolution': 72.0, 'YResolution': 72.0, 'File Path': './images/oranges.jpg'}, {'File Path': './images/sesamestreet.jpg'}, {'File Path': './images/9A861762-FC04-48B2-8856-011EFE860FD1.JPG'}, {'File Path': './images/1112201329_HDR~2.jpg'}, {'File Path': './images/1213202230b~2.jpg'}, {'ImageWidth': 4032, 'ImageLength': 3024, 'GPSInfo': 762, 'ResolutionUnit': 2, 'ExifOffset': 238, 'Make': 'samsung', 'Model': 'SM-G970U', 'Software': 'G970USQS2BSIV', 'Orientation': 6, 'DateTime': '2019:11:16 15:17:09', 'YCbCrPositioning': 1, 'XResolution': 72.0, 'YResolution': 72.0, 'File Path': './images/tj_food.jpg'}, {'ResolutionUnit': 2, 'ExifOffset': 170, 'Make': 'Apple', 'Model': 'iPhone XR', 'Software': '13.6.1', 'XResolution': 72.0, 'YResolution': 72.0, 'File Path': './images/IMG_5120.jpeg'}, {'ResolutionUnit': 2, 'ExifOffset': 212, 'Make': 'Apple', 'Model': 'iPhone 8 Plus', 'Software': '14.7.1', 'DateTime': '2021:09:05 20:17:12', 'YCbCrPositioning': 1, 'XResolution': 72.0, 'YResolution': 72.0, 'HostComputer': 'iPhone 8 Plus', 'File Path': './images/IMG_7408.jpeg'}, {'ImageWidth': 4000, 'ImageLength': 3000, 'ImageDescription': '\\x00\\x00\\x00\\x00\\x00\\x00\\x00\\x00\\x00\\x00\\x00\\x00\\x00\\x00\\x00\\x00\\x00\\x00\\x00\\x00\\x00\\x00\\x00\\x00\\x00\\x00\\x00\\x00\\x00\\x00\\x00', 'Make': 'samsung\\x00\\x00\\x00\\x00\\x00\\x00\\x00\\x00\\x00\\x00\\x00\\x00\\x00\\x00\\x00\\x00\\x00\\x00\\x00\\x00\\x00\\x00\\x00\\x00', 'Model': 'SM-A326U\\x00\\x00\\x00\\x00\\x00\\x00\\x00\\x00\\x00\\x00\\x00\\x00\\x00\\x00\\x00\\x00\\x00\\x00\\x00\\x00\\x00\\x00\\x00', 'Orientation': 1, 'YCbCrPositioning': 2, 'XResolution': 72.0, 'YResolution': 72.0, 544: 0, 545: 0, 546: 0, 547: 0, 548: 0, 549: '\\x00\\x00\\x00\\x00\\x00\\x00\\x00\\x00\\x00\\x00\\x00\\x00\\x00\\x00\\x00\\x00\\x00\\x00\\x00\\x00\\x00\\x00\\x00\\x00\\x00\\x00\\x00\\x00\\x00\\x00\\x00', 'ResolutionUnit': 2, 'Software': 'A326USQU7AVB1\\x00\\x00\\x00\\x00\\x00\\x00\\x00\\x00\\x00\\x00\\x00\\x00\\x00\\x00\\x00\\x00\\x00\\x00', 'DateTime': '2022:04:24 12:49:54', 'ExifOffset': 438, 'File Path': './images/olive.jpg'}, {'ImageWidth': 5312, 'ImageLength': 2988, 'GPSInfo': 3152, 'ResolutionUnit': 2, 'ExifOffset': 238, 'Make': 'samsung', 'Model': 'SM-G900V', 'Software': 'G900VVRU2DQL1', 'Orientation': 1, 'DateTime': '2018:10:25 17:33:43', 'YCbCrPositioning': 1, 'XResolution': 72.0, 'YResolution': 72.0, 'File Path': './images/grasshopper.jpg'}, {'ImageWidth': 5312, 'ImageLength': 2988, 'GPSInfo': 3152, 'ResolutionUnit': 2, 'ExifOffset': 238, 'Make': 'samsung', 'Model': 'SM-G900V', 'Software': 'G900VVRU2DQL1', 'Orientation': 6, 'DateTime': '2018:10:11 20:01:19', 'YCbCrPositioning': 1, 'XResolution': 72.0, 'YResolution': 72.0, 'File Path': './images/weird_tree.jpg'}, {'File Path': './images/1204211415i.jpg'}, {'ResolutionUnit': 2, 'ExifOffset': 204, 'Make': 'Apple', 'Model': 'iPhone XR', 'Software': '14.8.1', 'DateTime': '2022:03:12 12:56:22', 'Orientation': 3, 'XResolution': 72.0, 'YResolution': 72.0, 'HostComputer': 'iPhone XR', 'File Path': './images/IMG_8154.jpeg'}, {'ResolutionUnit': 2, 'ExifOffset': 190, 'Make': 'Apple', 'Model': 'iPhone XR', 'Software': '14.6', 'DateTime': '2021:10:30 17:18:59', 'XResolution': 72.0, 'YResolution': 72.0, 'HostComputer': 'iPhone XR', 'File Path': './images/IMG_7673.jpeg'}, {'File Path': './images/104B057B-3BF8-4610-BF33-A678EAB5380D.JPG'}, {'File Path': './images/IMG_20170413_165525732.jpg'}, {'ImageWidth': 4032, 'ImageLength': 3024, 'ResolutionUnit': 2, 'ExifOffset': 228, 'Make': 'samsung', 'Model': 'SM-G991U1', 'Software': 'G991U1UEU2AUC8', 'Orientation': 6, 'YCbCrPositioning': 1, 'XResolution': 72.0, 'YResolution': 72.0, 'File Path': './images/20210425_031811.jpg'}, {'ResolutionUnit': 2, 'ExifOffset': 204, 'Make': 'Apple', 'Model': 'iPhone XR', 'Software': '14.7.1', 'Orientation': 1, 'XResolution': 72.0, 'YResolution': 72.0, 'HostComputer': 'iPhone XR', 'File Path': './images/IMG_7690.jpeg'}, {'ImageWidth': 4608, 'ImageLength': 2592, 'ResolutionUnit': 2, 'ExifOffset': 226, 'Make': 'samsung', 'Model': 'SM-G970U', 'Software': 'G970USQU6GUJ3', 'Orientation': 1, 'DateTime': '2021:12:25 15:11:12', 'YCbCrPositioning': 1, 'XResolution': 72.0, 'YResolution': 72.0, 'File Path': './images/lake.jpg'}, {'ImageWidth': 5312, 'ImageLength': 2988, 'GPSInfo': 3152, 'ResolutionUnit': 2, 'ExifOffset': 238, 'Make': 'samsung', 'Model': 'SM-G900V', 'Software': 'G900VVRU2DQL1', 'Orientation': 1, 'DateTime': '2018:10:25 17:33:43', 'YCbCrPositioning': 1, 'XResolution': 72.0, 'YResolution': 72.0, 'File Path': './images/grasshopper2.jpg'}, {'ResolutionUnit': 2, 'ExifOffset': 192, 'Make': 'Apple', 'Model': 'iPhone XR', 'Software': '14.4.2', 'DateTime': '2021:06:19 11:00:33', 'XResolution': 72.0, 'YResolution': 72.0, 'HostComputer': 'iPhone XR', 'File Path': './images/IMG_6970.jpeg'}, {'File Path': './images/art_selfie.jpg'}, {'File Path': './images/0331191922a_HDR.jpg'}, {'ResolutionUnit': 2, 'ExifOffset': 190, 'Make': 'Apple', 'Model': 'iPhone XR', 'Software': '14.4', 'DateTime': '2021:02:15 09:40:04', 'XResolution': 72.0, 'YResolution': 72.0, 'HostComputer': 'iPhone XR', 'File Path': './images/IMG_6272.jpeg'}, {'File Path': './images/haworthia.jpg'}, {'ImageWidth': 4608, 'ImageLength': 2592, 'ResolutionUnit': 2, 'ExifOffset': 226, 'Make': 'samsung', 'Model': 'SM-G970U', 'Software': 'G970USQS5GUF1', 'Orientation': 6, 'DateTime': '2021:08:01 14:25:00', 'YCbCrPositioning': 1, 'XResolution': 72.0, 'YResolution': 72.0, 'File Path': './images/museum.jpg'}, {'ResolutionUnit': 2, 'ExifOffset': 192, 'Make': 'Apple', 'Model': 'iPhone XR', 'Software': '14.4.2', 'DateTime': '2021:04:23 21:46:01', 'XResolution': 72.0, 'YResolution': 72.0, 'HostComputer': 'iPhone XR', 'File Path': './images/IMG_6696.jpeg'}, {'ResolutionUnit': 2, 'ExifOffset': 204, 'Make': 'Apple', 'Model': 'iPhone XR', 'Software': '14.8.1', 'Orientation': 1, 'DateTime': '2022:04:03 20:32:47', 'XResolution': 72.0, 'YResolution': 72.0, 'HostComputer': 'iPhone XR', 'File Path': './images/IMG_8261.jpeg'}, {'File Path': './images/0201210007.jpg'}, {'ResolutionUnit': 2, 'ExifOffset': 110, 'DateTime': '2021:01:29 11:00:56', 'XResolution': 72.0, 'YResolution': 72.0, 'File Path': './images/IMG_2338.jpeg'}, {'ImageWidth': 4032, 'ImageLength': 3024, 'ResolutionUnit': 2, 'ExifOffset': 226, 'Make': 'samsung', 'Model': 'SM-G970U', 'Software': 'G970USQS2CSL1', 'Orientation': 6, 'DateTime': '2020:02:10 23:05:35', 'YCbCrPositioning': 1, 'XResolution': 72.0, 'YResolution': 72.0, 'File Path': './images/broom.jpg'}, {'File Path': './images/IMG_20170523_044545811.jpg'}, {'ResolutionUnit': 2, 'ExifOffset': 190, 'Make': 'Apple', 'Model': 'iPhone XR', 'Software': '14.3', 'DateTime': '2021:02:07 10:47:30', 'XResolution': 72.0, 'YResolution': 72.0, 'HostComputer': 'iPhone XR', 'File Path': './images/IMG_6212.jpeg'}, {'ResolutionUnit': 2, 'ExifOffset': 204, 'Make': 'Apple', 'Model': 'iPhone XR', 'Software': '15.4.1', 'Orientation': 1, 'DateTime': '2022:04:18 17:00:11', 'XResolution': 72.0, 'YResolution': 72.0, 'HostComputer': 'iPhone XR', 'File Path': './images/IMG_3143.jpeg'}, {'ResolutionUnit': 2, 'ExifOffset': 170, 'Make': 'Apple', 'Model': 'iPhone XR', 'Software': '14.0.1', 'DateTime': '2020:11:22 20:30:57', 'XResolution': 72.0, 'YResolution': 72.0, 'File Path': './images/IMG_5799.jpeg'}, {'File Path': './images/stages.png'}]\n",
      "['TileWidth', 'TileLength', 'GPSInfo', 'ResolutionUnit', 'ExifOffset', 'Make', 'Model', 'Software', 'Orientation', 'DateTime', 'XResolution', 'YResolution', 'HostComputer', 'File Path']\n"
     ]
    }
   ],
   "source": [
    "from exif import Image\n",
    "from PIL import Image\n",
    "from PIL.ExifTags import TAGS\n",
    "from csv import DictWriter\n",
    "import pandas as pd\n",
    "import os\n",
    "import numpy as np\n",
    "\n",
    "def img_filepaths():\n",
    "    \"\"\"\n",
    "    Returns a list of all the file filepaths in our directory variable.\n",
    "    \"\"\"\n",
    "    directory = \"./images\"\n",
    "    filepaths = []\n",
    "    for image in os.listdir(directory):\n",
    "        i = os.path.join(directory, image)\n",
    "        if os.path.isfile(i):\n",
    "            filepaths.append(i)\n",
    "    return filepaths\n",
    "\n",
    "def dict_convert():\n",
    "    \"\"\"\n",
    "    Returns a list of dictionaries of all of the metadata for a list of items in our file path from img_filepaths().\n",
    "    \"\"\"\n",
    "    dict_list = []\n",
    "    image_names = img_filepaths()\n",
    "    # assign image names as our img_filepaths function\n",
    "    for image in image_names:\n",
    "    # Loop through each image in our directory\n",
    "        try:\n",
    "            image_file = Image.open(image)\n",
    "            # assign image_file as the image file being open.\n",
    "            exifdata = image_file.getexif()\n",
    "            # assign pillow metadata tags onto id fields\n",
    "            file_dict = {}\n",
    "            for tag_id in exifdata:\n",
    "                # loop through the tag_ids (metadata tags)\n",
    "                tag = TAGS.get(tag_id, tag_id)\n",
    "                # acquire the tags and convert them into human readable metadata tags\n",
    "                data = exifdata.get(tag_id)\n",
    "                # get the value attributed to the tags in the metadata\n",
    "                if isinstance(data, bytes):\n",
    "                # check if our data is readable data\n",
    "                    data = data.decode()\n",
    "                # if not readable, decode it.\n",
    "                file_dict[tag] = data\n",
    "                # create a dictionary key-value pair with {metadata tag: data from photo}\n",
    "            name = {'File Path': image}\n",
    "            file_dict.update(name)\n",
    "            dict_list.append(file_dict)\n",
    "            # append the dictionary to our empty list \"dict_list\"\n",
    "        except:\n",
    "        # If the file is not readable by our function, instead of raising a value error. Pass it on through and leave it's dictionary empty.\n",
    "            pass   \n",
    "    return dict_list\n",
    "    # returns our list of dictionaries for each photo.\n",
    "\n",
    "print(dict_list)\n",
    "\n",
    "dict_list = dict_convert()\n",
    "# assign our dict_list to our function(dict_convert()) output\n",
    "field_names = ['TileWidth', 'TileLength', 'GPSInfo','ResolutionUnit', 'ExifOffset', 'Make', 'Model', 'Software', 'Orientation', 'DateTime', 'XResolution', 'YResolution', 'HostComputer', 'File Path']\n",
    "# assign our header column names to the second photo in our directory (The first one is Blank [0])\n",
    "print(field_names)\n",
    "with open(\"./data/meta_data.csv\", 'w',newline='') as csvfile:\n",
    "# write to meta_data.csv\n",
    "    writer = DictWriter(csvfile, fieldnames=field_names, extrasaction='ignore')\n",
    "    # to the csv assign the fieldnames as 'field_names' and ignore any data that doesnt fit in our columns(field_names)\n",
    "    writer.writeheader()\n",
    "    # write the header with \"field_names\"\n",
    "    writer.writerows(dict_list)\n",
    "    # write the rows with our dict_list which was the output of our dict_convert() function."
   ]
  }
 ],
 "metadata": {
  "interpreter": {
   "hash": "e51396d4ca4f74a9b4edc98dd63d65fa976c9af2686c8d7188ca90947889bf33"
  },
  "kernelspec": {
   "display_name": "Python 3.7.13 ('venv': venv)",
   "language": "python",
   "name": "python3"
  },
  "language_info": {
   "codemirror_mode": {
    "name": "ipython",
    "version": 3
   },
   "file_extension": ".py",
   "mimetype": "text/x-python",
   "name": "python",
   "nbconvert_exporter": "python",
   "pygments_lexer": "ipython3",
   "version": "3.7.13"
  },
  "orig_nbformat": 4
 },
 "nbformat": 4,
 "nbformat_minor": 2
}
