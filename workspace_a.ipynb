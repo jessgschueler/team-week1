{
 "cells": [
  {
   "cell_type": "code",
   "execution_count": 5,
   "metadata": {},
   "outputs": [],
   "source": [
    "from exif import Image\n",
    "from PIL import Image\n",
    "from PIL.ExifTags import TAGS\n",
    "from csv import DictWriter\n",
    "import pandas as pd\n",
    "import os\n",
    "\n",
    "def img_filepaths():\n",
    "    directory = \"./images\"\n",
    "    filepaths = []\n",
    "    for image in os.listdir(directory):\n",
    "        i = os.path.join(directory, image)\n",
    "        if os.path.isfile(i):\n",
    "            filepaths.append(i)\n",
    "    return filepaths\n",
    "\n",
    "def dict_convert():\n",
    "# Function that takes in return of img_filepaths() and outputs dictionaries of metadata from each jpeg file. \n",
    "    dict_list = []\n",
    "    header = []\n",
    "    image_names = img_filepaths()\n",
    "    for image in image_names:\n",
    "        try:\n",
    "            image_file = Image.open(image)\n",
    "            exifdata = image_file.getexif()\n",
    "            #maps pillow tags onto id fields and prints\n",
    "            file_dict = {}\n",
    "            for tag_id in exifdata:\n",
    "                # get the tag name, instead of human unreadable tag id\n",
    "                tag = TAGS.get(tag_id, tag_id)\n",
    "                data = exifdata.get(tag_id)\n",
    "                # decode bytes \n",
    "                if isinstance(data, bytes):\n",
    "                    data = data.decode()\n",
    "                #add tags into header list\n",
    "                header.append(tag)\n",
    "                file_dict[tag] = data\n",
    "            dict_list.append(file_dict)\n",
    "        except:\n",
    "            pass\n",
    "        \n",
    "    return dict_list\n",
    "dict_list = dict_convert()\n",
    "field_names = dict_list[1].keys()\n",
    "\n",
    "\n",
    "with open(\"./data/meta_data.csv\", 'w',newline='') as csvfile:\n",
    "    writer = DictWriter(csvfile, fieldnames=field_names, extrasaction='ignore')\n",
    "    writer.writeheader()\n",
    "    writer.writerows(dict_list)"
   ]
  }
 ],
 "metadata": {
  "interpreter": {
   "hash": "e51396d4ca4f74a9b4edc98dd63d65fa976c9af2686c8d7188ca90947889bf33"
  },
  "kernelspec": {
   "display_name": "Python 3.7.13 ('venv': venv)",
   "language": "python",
   "name": "python3"
  },
  "language_info": {
   "codemirror_mode": {
    "name": "ipython",
    "version": 3
   },
   "file_extension": ".py",
   "mimetype": "text/x-python",
   "name": "python",
   "nbconvert_exporter": "python",
   "pygments_lexer": "ipython3",
   "version": "3.7.13"
  },
  "orig_nbformat": 4
 },
 "nbformat": 4,
 "nbformat_minor": 2
}
