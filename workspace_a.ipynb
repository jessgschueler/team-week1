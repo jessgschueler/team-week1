{
 "cells": [
  {
   "cell_type": "code",
   "execution_count": 2,
   "metadata": {},
   "outputs": [],
   "source": [
    "from exif import Image\n",
    "from PIL import Image\n",
    "from PIL.ExifTags import TAGS\n",
    "from csv import DictWriter\n",
    "import pandas as pd\n",
    "import os\n",
    "\n",
    "def img_filepaths():\n",
    "    \"\"\"\n",
    "    Returns a list of all the file filepaths in our directory variable.\n",
    "    \"\"\"\n",
    "    directory = \"./images\"\n",
    "    filepaths = []\n",
    "    for image in os.listdir(directory):\n",
    "        i = os.path.join(directory, image)\n",
    "        if os.path.isfile(i):\n",
    "            filepaths.append(i)\n",
    "    return filepaths\n",
    "\n",
    "def dict_convert():\n",
    "    \"\"\"\n",
    "    Returns a list of dictionaries of all of the metadata for a list of items in our file path from img_filepaths().\n",
    "    \"\"\"\n",
    "    dict_list = []\n",
    "    image_names = img_filepaths()\n",
    "    # assign image names as our img_filepaths function\n",
    "    for image in image_names:\n",
    "    # Loop through each image in our directory\n",
    "        try:\n",
    "            image_file = Image.open(image)\n",
    "            # assign image_file as the image file being open.\n",
    "            exifdata = image_file.getexif()\n",
    "            # assign pillow metadata tags onto id fields\n",
    "            file_dict = {}\n",
    "            for tag_id in exifdata:\n",
    "                # loop through the tag_ids (metadata tags)\n",
    "                tag = TAGS.get(tag_id, tag_id)\n",
    "                # acquire the tags and convert them into human readable metadata tags\n",
    "                data = exifdata.get(tag_id)\n",
    "                # get the value attributed to the tags in the metadata\n",
    "                if isinstance(data, bytes):\n",
    "                # check if our data is readable data\n",
    "                    data = data.decode()\n",
    "                # if not readable, decode it.\n",
    "                file_dict[tag] = data\n",
    "                # create a dictionary key-value pair with {metadata tag: data from photo}\n",
    "            dict_list.append(file_dict)\n",
    "            # append the dictionary to our empty list \"dict_list\"\n",
    "        except:\n",
    "        # If the file is not readable by our function, instead of raising a value error. Pass it on through and leave it's dictionary empty.\n",
    "            pass\n",
    "        \n",
    "    return dict_list\n",
    "    # returns our list of dictionaries for each photo.\n",
    "\n",
    "dict_list = dict_convert()\n",
    "# assign our dict_list to our function(dict_convert()) output\n",
    "field_names = dict_list[1].keys()\n",
    "# assign our header column names to the second photo in our directory (The first one is Blank [0])\n",
    "\n",
    "with open(\"./data/meta_data.csv\", 'w',newline='') as csvfile:\n",
    "# write to meta_data.csv\n",
    "    writer = DictWriter(csvfile, fieldnames=field_names, extrasaction='ignore')\n",
    "    # to the csv assign the fieldnames as 'field_names' and ignore any data that doesnt fit in our columns(field_names)\n",
    "    writer.writeheader()\n",
    "    # write the header with \"field_names\"\n",
    "    writer.writerows(dict_list)\n",
    "    # write the rows with our dict_list which was the output of our dict_convert() function."
   ]
  },
  {
   "cell_type": "code",
   "execution_count": 30,
   "metadata": {},
   "outputs": [
    {
     "name": "stdout",
     "output_type": "stream",
     "text": [
      "DateTime    object\n",
      "dtype: object\n",
      "2019-11-16\n"
     ]
    }
   ],
   "source": [
    "import datetime\n",
    "\n",
    "metadata_file = \"./data/meta_data.csv\"\n",
    "metadata = pd.read_csv(metadata_file, header=0, usecols=[\"DateTime\"])\n",
    "\n",
    "print(metadata.dtypes)\n",
    "\n",
    "def remove_time(value):\n",
    "    date = datetime.datetime.strptime(value, '%Y:%m:%d %H:%M:%S').date()\n",
    "    print(date)\n",
    "\n",
    "# d = datetime.date(2019, 4, 13)\n",
    "# print(d)\n",
    "remove_time(\"2019:11:16 15:17:09\")"
   ]
  }
 ],
 "metadata": {
  "interpreter": {
   "hash": "e51396d4ca4f74a9b4edc98dd63d65fa976c9af2686c8d7188ca90947889bf33"
  },
  "kernelspec": {
   "display_name": "Python 3.7.13 ('venv': venv)",
   "language": "python",
   "name": "python3"
  },
  "language_info": {
   "codemirror_mode": {
    "name": "ipython",
    "version": 3
   },
   "file_extension": ".py",
   "mimetype": "text/x-python",
   "name": "python",
   "nbconvert_exporter": "python",
   "pygments_lexer": "ipython3",
   "version": "3.7.13"
  },
  "orig_nbformat": 4
 },
 "nbformat": 4,
 "nbformat_minor": 2
}
